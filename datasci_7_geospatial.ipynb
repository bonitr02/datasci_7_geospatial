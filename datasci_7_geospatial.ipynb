{
  "nbformat": 4,
  "nbformat_minor": 0,
  "metadata": {
    "colab": {
      "provenance": [],
      "authorship_tag": "ABX9TyPN6OOgxI6VLj1nreyi0v44",
      "include_colab_link": true
    },
    "kernelspec": {
      "name": "python3",
      "display_name": "Python 3"
    },
    "language_info": {
      "name": "python"
    }
  },
  "cells": [
    {
      "cell_type": "markdown",
      "metadata": {
        "id": "view-in-github",
        "colab_type": "text"
      },
      "source": [
        "<a href=\"https://colab.research.google.com/github/bonitr02/datasci_7_geospatial/blob/main/datasci_7_geospatial.ipynb\" target=\"_parent\"><img src=\"https://colab.research.google.com/assets/colab-badge.svg\" alt=\"Open In Colab\"/></a>"
      ]
    },
    {
      "cell_type": "markdown",
      "source": [
        "# HHA 507 Assignment 7"
      ],
      "metadata": {
        "id": "Ybvt8kfQktE8"
      }
    },
    {
      "cell_type": "markdown",
      "source": [
        "# Load Packages"
      ],
      "metadata": {
        "id": "-Qp-Oh1CnFBt"
      }
    },
    {
      "cell_type": "code",
      "source": [
        "import requests\n",
        "import requests\n",
        "import pandas as pd\n",
        "import numpy as np\n",
        "import re\n",
        "import geopandas as gpd\n",
        "import matplotlib.pyplot as plt\n",
        "import urllib.parse\n",
        "import os\n",
        "import json"
      ],
      "metadata": {
        "id": "P-dLWVaOg-Nz"
      },
      "execution_count": 7,
      "outputs": []
    },
    {
      "cell_type": "markdown",
      "source": [
        "# Geospatial Data Sets"
      ],
      "metadata": {
        "id": "8NVeWMfSnIoJ"
      }
    },
    {
      "cell_type": "markdown",
      "source": [
        "## Geospatial Data Set #1"
      ],
      "metadata": {
        "id": "0c8PQ-VWn57j"
      }
    },
    {
      "cell_type": "code",
      "source": [
        "df1 = gpd.read_file('/content/Louisville_Metro_KY_-_Firearm_data_intersections_January_1st%2C_2010-February_22nd%2C_2017.geojson')\n",
        "df1.columns"
      ],
      "metadata": {
        "colab": {
          "base_uri": "https://localhost:8080/"
        },
        "id": "UKOVM9yomqMI",
        "outputId": "5f77fa66-903f-46f8-d535-ba6bafa25ad7"
      },
      "execution_count": 38,
      "outputs": [
        {
          "output_type": "execute_result",
          "data": {
            "text/plain": [
              "Index(['ObjectId', 'incident_number', 'ucr_category', 'type_of_firearm',\n",
              "       'firearm_manufacturer', 'firearm_model', 'firearm_caliber',\n",
              "       'recovery_date', 'address_geocode_type', 'recovery_block_address',\n",
              "       'city', 'state', 'recovery_zipcode', 'person_recovered_from_race',\n",
              "       'person_recovered_from_sex', 'person_recovered_from_age',\n",
              "       'address_concat', 'x', 'y', 'longitude', 'latitude', 'confidence',\n",
              "       'source', 'geometry'],\n",
              "      dtype='object')"
            ]
          },
          "metadata": {},
          "execution_count": 38
        }
      ]
    },
    {
      "cell_type": "markdown",
      "source": [
        "## Geospatial Data Set #2"
      ],
      "metadata": {
        "id": "tjwqco39oBJT"
      }
    },
    {
      "cell_type": "code",
      "source": [
        "df2 = gpd.read_file('/content/Louisville_Metro_KY_-_Development_Applications_2010-2018_(Historical).geojson')\n",
        "df2.columns"
      ],
      "metadata": {
        "colab": {
          "base_uri": "https://localhost:8080/"
        },
        "id": "MZL2bVuHmqJr",
        "outputId": "f51ff2e0-4f9c-4c81-8074-af997e1609e9"
      },
      "execution_count": 39,
      "outputs": [
        {
          "output_type": "execute_result",
          "data": {
            "text/plain": [
              "Index(['ObjectId', 'APNO', 'MixedUse', 'SqFootage', 'ProjType', 'Rooms',\n",
              "       'Units', 'BldLots', 'NonBldLots', 'AppType', 'WorkType', 'SubWrkType',\n",
              "       'ProjName', 'Category', 'BOZA', 'BOZADate', 'PC', 'PCDate', 'LDT',\n",
              "       'LDTDate', 'DRC', 'DRCDate', 'STNO', 'PreDir', 'Address', 'Suffix',\n",
              "       'PostDir', 'SubD', 'CreYear', 'LastYear', 'XCoord', 'YCoord',\n",
              "       'Latitude', 'Longitude', 'geometry'],\n",
              "      dtype='object')"
            ]
          },
          "metadata": {},
          "execution_count": 39
        }
      ]
    },
    {
      "cell_type": "markdown",
      "source": [
        "## Geospatial Data Set #3"
      ],
      "metadata": {
        "id": "h2gAwAonoBOt"
      }
    },
    {
      "cell_type": "code",
      "source": [
        "df3 = gpd.read_file('/content/Louisville_Metro_KY_-_Environmental_Health_Bulk_Data_-_Establishments.geojson')\n",
        "df3.columns"
      ],
      "metadata": {
        "colab": {
          "base_uri": "https://localhost:8080/"
        },
        "id": "huxMy6oMmqHN",
        "outputId": "e46fa618-abc2-4b58-9c81-c9c6139050d9"
      },
      "execution_count": 40,
      "outputs": [
        {
          "output_type": "execute_result",
          "data": {
            "text/plain": [
              "Index(['EstablishmentID', 'CountyID', 'RCode', 'RCodeDesc', 'EstType',\n",
              "       'PremiseName', 'PermiseStreetNo', 'PremiseStreet',\n",
              "       'PremiseExtraAddrLine', 'PremiseCity', 'PremiseState', 'PremiseZip',\n",
              "       'InspectionIntervalDays', 'IsPayFee', 'IsStateOwned', 'Status',\n",
              "       'WaterProvider', 'SewageProvider', 'IsBonded', 'RenewalStatus',\n",
              "       'PermitPrinted', 'Language', 'RiskType', 'MenuType', 'IsCaterer',\n",
              "       'IsDriveThru', 'IsTrucksOnly', 'Area', 'MailAppIDDesc',\n",
              "       'MailPermitIDDesc', 'HoursOfOperation', 'DaysOfOperation',\n",
              "       'MonthsOfOperation', 'opening_date', 'renewal_sent_date',\n",
              "       'renewal_received_date', 'permit_print_date', 'permit_expiration_date',\n",
              "       'next_inspection_date', 'bond_expiration_date', 'Quantity1',\n",
              "       'Quantity1Unit', 'Quantity2', 'Quantity2Units', 'latitude', 'longitude',\n",
              "       'comments', 'TotalFeeAmt', 'PermitFeeAmt', 'InspectionFeeAmt',\n",
              "       'VarianceGranted', 'FollowUpDate', 'ObjectId', 'geometry'],\n",
              "      dtype='object')"
            ]
          },
          "metadata": {},
          "execution_count": 40
        }
      ]
    },
    {
      "cell_type": "markdown",
      "source": [
        "## Geospatial Data Set #4"
      ],
      "metadata": {
        "id": "DS15-iOOoBT6"
      }
    },
    {
      "cell_type": "code",
      "source": [
        "df4 = gpd.read_file('/content/Louisville_Metro_KY_-_Right_of_Way_Permits_(Historical).geojson')\n",
        "df4.columns"
      ],
      "metadata": {
        "colab": {
          "base_uri": "https://localhost:8080/"
        },
        "id": "ZBWV-zpfmqEd",
        "outputId": "7d0cfe30-e39c-4d5c-e896-087bd90f02e1"
      },
      "execution_count": 43,
      "outputs": [
        {
          "output_type": "execute_result",
          "data": {
            "text/plain": [
              "Index(['ObjectId', 'ID', 'APNO', 'FULLNAME', 'ISCONTRACTOR', 'APDTTM', 'APBY',\n",
              "       'ISSDTTM', 'ISSBY', 'FROM_DATE', 'TO_DATE', 'COOBY', 'COMMENTS_SEARCH',\n",
              "       'WORKTYPE', 'WORKTYPE_DESCRIPTION', 'PROCESS_STATE', 'LOCATION',\n",
              "       'STREET_ADDRESS', 'CITY', 'STATE', 'ZIP', 'GPSX', 'GPSY', 'Latitude',\n",
              "       'Longitude', 'geometry'],\n",
              "      dtype='object')"
            ]
          },
          "metadata": {},
          "execution_count": 43
        }
      ]
    },
    {
      "cell_type": "markdown",
      "source": [
        "## Geospatial Data Set #5\n",
        "\n"
      ],
      "metadata": {
        "id": "oof-OVQyoBZ7"
      }
    },
    {
      "cell_type": "code",
      "source": [
        "df5 = gpd.read_file('/content/Tree_Inventory.geojson')\n",
        "df5.columns"
      ],
      "metadata": {
        "colab": {
          "base_uri": "https://localhost:8080/"
        },
        "id": "OaJbmbKjmp9i",
        "outputId": "31abec98-abe1-4113-ede3-835912ef5bc2"
      },
      "execution_count": 44,
      "outputs": [
        {
          "output_type": "execute_result",
          "data": {
            "text/plain": [
              "Index(['OBJECTID', 'Tree_ID', 'Species_Name', 'DBH__in_',\n",
              "       'Replacement_Value____', 'Carbon_Storage__lb_', 'Carbon_Storage____',\n",
              "       'Gross_Carbon_Sequestration__lb_', 'Gross_Carbon_Sequestration____y',\n",
              "       'Avoided_Runoff__ftÂ__yr_', 'Avoided_Runoff____yr_',\n",
              "       'Carbon_Avoided__lb_yr_', 'Carbon_Avoided____yr_',\n",
              "       'Pollution_Removal__oz_yr_', 'Pollution_Removal____yr_',\n",
              "       'Energy_Savings____yr_', 'Total_Annual_Benefits____yr_', 'xCoordinate',\n",
              "       'yCoordinate', 'User_ID', 'Date', 'geometry'],\n",
              "      dtype='object')"
            ]
          },
          "metadata": {},
          "execution_count": 44
        }
      ]
    },
    {
      "cell_type": "code",
      "source": [
        "df5[['']]"
      ],
      "metadata": {
        "id": "3v80ZRCxndPM"
      },
      "execution_count": null,
      "outputs": []
    },
    {
      "cell_type": "code",
      "source": [],
      "metadata": {
        "id": "Rfb5Yl7rndIl"
      },
      "execution_count": null,
      "outputs": []
    },
    {
      "cell_type": "code",
      "source": [],
      "metadata": {
        "id": "ST8r40RJndFg"
      },
      "execution_count": null,
      "outputs": []
    },
    {
      "cell_type": "code",
      "source": [],
      "metadata": {
        "id": "pUs0RX8Znc55"
      },
      "execution_count": null,
      "outputs": []
    },
    {
      "cell_type": "code",
      "source": [
        "df_gpd[['All_Cancer', 'ZIP']].sort_values(by=['All_Cancer'], ascending=False)"
      ],
      "metadata": {
        "id": "I9-7sUbiVuxa"
      },
      "execution_count": null,
      "outputs": []
    },
    {
      "cell_type": "code",
      "source": [
        "df_gpd['All_Cancer'] = (df_gpd['All_Cancer'] / 1000)"
      ],
      "metadata": {
        "id": "KMXX9Ch4Vuua"
      },
      "execution_count": null,
      "outputs": []
    },
    {
      "cell_type": "code",
      "source": [
        "df_gpd.plot(\"Breast_Can\", legend=True)"
      ],
      "metadata": {
        "id": "7gdghVHxVurz"
      },
      "execution_count": null,
      "outputs": []
    },
    {
      "cell_type": "code",
      "source": [],
      "metadata": {
        "id": "9FiUu-OHVuop"
      },
      "execution_count": null,
      "outputs": []
    },
    {
      "cell_type": "code",
      "source": [],
      "metadata": {
        "id": "Damk55VqVui1"
      },
      "execution_count": null,
      "outputs": []
    }
  ]
}